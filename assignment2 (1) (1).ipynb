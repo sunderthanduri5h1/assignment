{
 "cells": [
  {
   "cell_type": "markdown",
   "metadata": {
    "colab_type": "text",
    "id": "V0pOoSEHUaKL"
   },
   "source": [
    "#name:sundhar rollno:18K41A05H1\n"
   ]
  },
  {
   "cell_type": "markdown",
   "metadata": {},
   "source": [
    "1.Given the lengths of three sides of a triangle, calculate the area of the triangle."
   ]
  },
  {
   "cell_type": "code",
   "execution_count": null,
   "metadata": {
    "colab": {
     "base_uri": "https://localhost:8080/",
     "height": 87
    },
    "colab_type": "code",
    "id": "ZhmdcTjsUG8R",
    "outputId": "c8ffa07d-c62e-4fd7-85a1-26b043d3f0d4"
   },
   "outputs": [
    {
     "name": "stdout",
     "output_type": "stream",
     "text": [
      "enter the length5\n",
      "enter the breadth6\n",
      "enter the height4\n",
      "area is 9.921567416492215\n"
     ]
    }
   ],
   "source": [
    "s1=int(input(\"enter the length\"))\n",
    "s2=int(input(\"enter the breadth\"))\n",
    "s3=int(input(\"enter the height\"))\n",
    "s=int(s1+s2+s3)/2\n",
    "area=(s*(s-s1)*(s-s2)*(s-s3))**(1/2)\n",
    "print(\"area of a triangle {}\".format(area))"
   ]
  },
  {
   "cell_type": "markdown",
   "metadata": {
    "colab_type": "text",
    "id": "30mRSWOq4RRh"
   },
   "source": [
    "2.TAKE A STRING FROM END USER AND CHECK IF THE VALUE IS PALINDROME OR NOT."
   ]
  },
  {
   "cell_type": "code",
   "execution_count": null,
   "metadata": {
    "colab": {
     "base_uri": "https://localhost:8080/",
     "height": 52
    },
    "colab_type": "code",
    "id": "-BQyKK-6WgH5",
    "outputId": "f734ae0a-9b53-428f-bc78-e5f0b5f73a8e"
   },
   "outputs": [
    {
     "name": "stdout",
     "output_type": "stream",
     "text": [
      "enter the string:parampro\n",
      "it is not a palindrome\n"
     ]
    }
   ],
   "source": [
    "s=input(\"enter the string:\")\n",
    "s=s.lower()\n",
    "if s ==s[::-1]:\n",
    "  print(\"it is palindrome\")\n",
    "else:\n",
    "  print(\"it is not a palindrome\")"
   ]
  },
  {
   "cell_type": "markdown",
   "metadata": {
    "colab_type": "text",
    "id": "UVV-YHhv5fbX"
   },
   "source": [
    "3.\tWrite a program that reads a year from the user and displays a message \n",
    "Indicating whether or not it is a leap year.\n"
   ]
  },
  {
   "cell_type": "code",
   "execution_count": null,
   "metadata": {
    "colab": {
     "base_uri": "https://localhost:8080/",
     "height": 52
    },
    "colab_type": "code",
    "id": "Mb3Z3rriayoN",
    "outputId": "7686a76e-de2f-4f94-d185-11e3bb0416bc"
   },
   "outputs": [
    {
     "name": "stdout",
     "output_type": "stream",
     "text": [
      "enter the year2020\n",
      "yes it is a Leap Year\n"
     ]
    }
   ],
   "source": [
    "def checkYear(year): \n",
    "    if (year % 4) == 0: \n",
    "        if (year % 100) == 0: \n",
    "            if (year % 400) == 0: \n",
    "                return True\n",
    "            else: \n",
    "                return False\n",
    "        else: \n",
    "             return True\n",
    "    else: \n",
    "        return False \n",
    "year =int(input(\"enter the year\"))\n",
    "if(checkYear(year)): \n",
    "    print(\"yes it is a Leap Year\") \n",
    "else: \n",
    "    print(\"Not a Leap Year\") "
   ]
  },
  {
   "cell_type": "markdown",
   "metadata": {
    "colab_type": "text",
    "id": "Wo5jY1NC78PK"
   },
   "source": [
    "4.SPACE TO HYPHEN PROBLEM: Take a string as input, and replaces spaces \" \" with hyphens \"-\", and returns a string.\n",
    "\n"
   ]
  },
  {
   "cell_type": "code",
   "execution_count": null,
   "metadata": {
    "colab": {
     "base_uri": "https://localhost:8080/",
     "height": 52
    },
    "colab_type": "code",
    "id": "Tl3yzw0y63DP",
    "outputId": "16f946c8-4ab8-4bbc-c16d-0aa96918abfc"
   },
   "outputs": [
    {
     "name": "stdout",
     "output_type": "stream",
     "text": [
      "enter the string with spacesThis program converts spaces into hyphen\n",
      "This-program-converts-spaces-into-hyphen\n"
     ]
    }
   ],
   "source": [
    "s=input(\"enter the string with spaces\")\n",
    "w=s.split(\" \")\n",
    "r=\"-\".join(w)\n",
    "print(r)"
   ]
  },
  {
   "cell_type": "markdown",
   "metadata": {
    "colab_type": "text",
    "id": "oTPbpF0O86SZ"
   },
   "source": [
    "*5.UNIQUE SORT PROBLEM Take a string as input that accepts a comma separated sequence of words as input and prints the unique words in sorted form(alphanumerically)"
   ]
  },
  {
   "cell_type": "code",
   "execution_count": null,
   "metadata": {
    "colab": {
     "base_uri": "https://localhost:8080/",
     "height": 52
    },
    "colab_type": "code",
    "id": "jkRwODwt8vLJ",
    "outputId": "e5a32fe2-fe25-47db-c998-1480f28798e4"
   },
   "outputs": [
    {
     "name": "stdout",
     "output_type": "stream",
     "text": [
      "enter a string separated by commasorange, white, red, cyan, green, magenta, cyan, pink, white\n",
      " cyan, cyan, green, magenta, pink, red, white, white,orange\n"
     ]
    }
   ],
   "source": [
    "str3=input(\"enter a string separated by commas\")\n",
    "sp=str3.split(',')\n",
    "l=list(sp)\n",
    "l.sort()\n",
    "f=\",\".join(l)\n",
    "print(f)\n"
   ]
  },
  {
   "cell_type": "markdown",
   "metadata": {
    "colab_type": "text",
    "id": "kQIDqn_I-xx4"
   },
   "source": [
    "6.TAX CALCULATOR Ask the user for their monthly salary. Calculate whether they have to pay tax and if so, how much is that amount. Print the result."
   ]
  },
  {
   "cell_type": "code",
   "execution_count": null,
   "metadata": {
    "colab": {
     "base_uri": "https://localhost:8080/",
     "height": 52
    },
    "colab_type": "code",
    "id": "_3eKMEsH9yec",
    "outputId": "a9a7e0c8-acae-4eaa-e318-6ad87b69493b"
   },
   "outputs": [
    {
     "name": "stdout",
     "output_type": "stream",
     "text": [
      "enter the monthly salary33333\n",
      "the tax to be paid: 19999.8\n"
     ]
    }
   ],
   "source": [
    "sal=int(input(\"enter the monthly salary\"))\n",
    "year=sal*12\n",
    "t=0\n",
    "if year<250000:\n",
    "  print(\"no tax is to be paid\")\n",
    "elif 250001<=year<=500000:\n",
    "    t=year*5/100\n",
    "elif 500001<=year<=750000:\n",
    "    t=year*10/100\n",
    "elif 750001<=year<=100000:\n",
    "    t=year*15/100\n",
    "elif 1000001<=year<=1250000:\n",
    "    t=year*20/100\n",
    "elif 1250001<=year<=1500000:\n",
    "    t=year*25/100\n",
    "else:\n",
    "    t=year*30/100\n",
    "print(\"the tax to be paid:\",t)"
   ]
  },
  {
   "cell_type": "markdown",
   "metadata": {
    "colab_type": "text",
    "id": "QT4E5eM4DIM9"
   },
   "source": [
    "7.TAKE A LIST OF INTEGERS AS AN ARGUMENT, AND CONVERTS IT INTO A SINGLE INTEGER ( RETURN THE INTEGER)"
   ]
  },
  {
   "cell_type": "code",
   "execution_count": null,
   "metadata": {
    "colab": {
     "base_uri": "https://localhost:8080/",
     "height": 34
    },
    "colab_type": "code",
    "id": "DVMT-tQNBd3H",
    "outputId": "8ad3fff9-c147-44c6-e003-f068620840f2"
   },
   "outputs": [
    {
     "name": "stdout",
     "output_type": "stream",
     "text": [
      "9381417960\n"
     ]
    }
   ],
   "source": [
    "list1=[93,81,41,79,60]\n",
    "integer=\" \"\n",
    "for i in range(0,len(list1),1):\n",
    "    integer=integer+str(list1[i])\n",
    "integer1=int(integer)\n",
    "print(integer1)"
   ]
  },
  {
   "cell_type": "markdown",
   "metadata": {
    "colab_type": "text",
    "id": "akYn--UuD2cS"
   },
   "source": [
    "8.UNITS OF TIME Create a program that reads duration from the user as a number of days, hours, minutes, and seconds. Compute and display the total number of seconds represented by this duration."
   ]
  },
  {
   "cell_type": "code",
   "execution_count": null,
   "metadata": {
    "colab": {
     "base_uri": "https://localhost:8080/",
     "height": 105
    },
    "colab_type": "code",
    "id": "Kohp3zYBD0ev",
    "outputId": "08a2b500-2289-43ca-94e6-39df7459d04a"
   },
   "outputs": [
    {
     "name": "stdout",
     "output_type": "stream",
     "text": [
      "enter no. of days1\n",
      "enter no. of hrs4\n",
      "enter no. of mins10\n",
      "enter no. of secs5\n",
      "total number of seconds: 101405\n"
     ]
    }
   ],
   "source": [
    "days=int(input(\"enter no. of days\"))\n",
    "hr=int(input(\"enter no. of hrs\"))\n",
    "min=int(input(\"enter no. of mins\"))\n",
    "sec=int(input(\"enter no. of secs\"))\n",
    "total=sec+(min*60)+(hr*3600)+(days*86400)\n",
    "print(\"total number of seconds:\",total)"
   ]
  },
  {
   "cell_type": "markdown",
   "metadata": {
    "colab_type": "text",
    "id": "ja_c8mbdFU6u"
   },
   "source": [
    "9.SORT 3 INTEGERS Given 3 integers (given through user input), sort the numbers using |min| and |max| functions."
   ]
  },
  {
   "cell_type": "code",
   "execution_count": 1,
   "metadata": {
    "colab": {
     "base_uri": "https://localhost:8080/",
     "height": 122
    },
    "colab_type": "code",
    "id": "1U0xwbQCEkwH",
    "outputId": "b2acb94c-2d65-45ba-b1b1-db12a3c8cbd9"
   },
   "outputs": [
    {
     "name": "stdout",
     "output_type": "stream",
     "text": [
      "enter 1st value10\n",
      "enter 2nd value5\n",
      "enter 3rd value2\n",
      "given values are: [10, 5, 2]\n",
      "after sorting: [2, 5, 10]\n",
      "max value: 10\n",
      "min value: 2\n"
     ]
    }
   ],
   "source": [
    "ls=[]\n",
    "s=int(input(\"enter 1st value\"))\n",
    "s1=int(input(\"enter 2nd value\"))\n",
    "s2=int(input(\"enter 3rd value\"))\n",
    "ls.append(s)\n",
    "ls.append(s1)\n",
    "ls.append(s2)\n",
    "print(\"given values are:\",ls)\n",
    "ls.sort()\n",
    "print(\"after sorting:\",ls)\n",
    "print('max value:',max(ls))\n",
    "print('min value:',min(ls))"
   ]
  },
  {
   "cell_type": "markdown",
   "metadata": {
    "colab": {},
    "colab_type": "code",
    "id": "2OM6fTAAGCUw"
   },
   "source": [
    "10.Write a program that reads a date from the user and computes its immediate successor. The date is the format YYYY-MM-DD. So, 2020-04-15 will have the successor 2020-04-16."
   ]
  },
  {
   "cell_type": "code",
   "execution_count": 4,
   "metadata": {},
   "outputs": [
    {
     "name": "stdout",
     "output_type": "stream",
     "text": [
      "enter date in YYYY-MM-DD format2020-04-02\n",
      "2020-4-3\n"
     ]
    }
   ],
   "source": [
    "date=input(\"enter date in YYYY-MM-DD format\")\n",
    "date_ls=date.split(\"-\")\n",
    "d_lst=[]\n",
    "year=int(date_ls[0])\n",
    "month=int(date_ls[1])\n",
    "date1=int(date_ls[2])\n",
    "\n",
    "def checkYear(year):\n",
    "    if (year % 4) == 0: \n",
    "        if (year % 100) == 0: \n",
    "            if (year % 400) == 0: \n",
    "                return True\n",
    "            else: \n",
    "                return False\n",
    "        else: \n",
    "             return True\n",
    "    else: \n",
    "        return False \n",
    "m1=[4,6,9,11]\n",
    "if date1==30 and month in m1:\n",
    "    date1=1\n",
    "    month=month+1\n",
    "elif date1==28 and month==2 and checkYear(year):\n",
    "    date1=29\n",
    "elif date1==28 and month==2 and checkYear(year)==0:\n",
    "    date1=1\n",
    "    month=month+1\n",
    "elif date1==30 and month not in m1:\n",
    "    date1=31\n",
    "elif date1==31 and month==12:\n",
    "    year=year+1\n",
    "    month=1\n",
    "    date1=1\n",
    "elif date1==31 and month!=12:\n",
    "    month=month+1\n",
    "    date1=1\n",
    "else:\n",
    "    date1=date1+1\n",
    "\n",
    "up_date=[]\n",
    "d_lst.append(str(year))\n",
    "d_lst.append(str(month))\n",
    "d_lst.append(str(date1))\n",
    "up_date=\"-\".join(d_lst)\n",
    "print(up_date)"
   ]
  },
  {
   "cell_type": "markdown",
   "metadata": {},
   "source": [
    "11.COMPUTE PRODUCT OF A LIST OF NUMBERS [45,3,2,89,72,1,10,7]"
   ]
  },
  {
   "cell_type": "code",
   "execution_count": 8,
   "metadata": {},
   "outputs": [
    {
     "name": "stdout",
     "output_type": "stream",
     "text": [
      "121111200\n"
     ]
    }
   ],
   "source": [
    "l=[45,3,2,89,72,1,10,7]\n",
    "nu=1\n",
    "for i in range(0,len(l),1):\n",
    "    nu=nu*l[i]\n",
    "print(nu)"
   ]
  },
  {
   "cell_type": "markdown",
   "metadata": {},
   "source": [
    "12.COMPUTE GIVEN NUM_LIST = [5,6,8,34,89,1] TO GET DESIRED OUTPUT OUTPUT:OUT_LST=[11,14,42,123,90]"
   ]
  },
  {
   "cell_type": "code",
   "execution_count": 9,
   "metadata": {},
   "outputs": [
    {
     "name": "stdout",
     "output_type": "stream",
     "text": [
      "[11, 14, 42, 123, 90]\n"
     ]
    }
   ],
   "source": [
    "l=[5,6,8,34,89,1]\n",
    "s=[]\n",
    "a=0\n",
    "for i in range(0,len(l)-1,1):\n",
    "    a=0\n",
    "    a=l[i]+l[i+1]\n",
    "    s.append(a)\n",
    "print(s)"
   ]
  },
  {
   "cell_type": "markdown",
   "metadata": {},
   "source": [
    "13.COMPUTE GIVEN NUM_TUPLE = (5,6,8,3,9,1) TO GET DESIRED OUTPUT OUTPUT: OUT_LST=[5,30,240,720,6480,6480]"
   ]
  },
  {
   "cell_type": "code",
   "execution_count": 10,
   "metadata": {},
   "outputs": [
    {
     "name": "stdout",
     "output_type": "stream",
     "text": [
      "[5, 30, 240, 720, 6480, 6480]\n"
     ]
    }
   ],
   "source": [
    "l=(5,6,8,3,9,1)\n",
    "s=list(l)\n",
    "s1=[]\n",
    "m=s[0]\n",
    "s1.append(m)\n",
    "for i in range(0,len(s)-1,1):\n",
    "    m=m*s[i+1]\n",
    "    s1.append(m)\n",
    "print(s1)"
   ]
  },
  {
   "cell_type": "markdown",
   "metadata": {},
   "source": [
    "14.WRITE A PYTHON CODE THAT TAKES A NUMBER AND RETURNS A LIST OF IT'S DIGITS. SO FOR 586392 IT SHOULD RETURN [5,8,6,3,9,2]"
   ]
  },
  {
   "cell_type": "code",
   "execution_count": 15,
   "metadata": {},
   "outputs": [
    {
     "name": "stdout",
     "output_type": "stream",
     "text": [
      "[5, 8, 6, 3, 9, 2]\n"
     ]
    }
   ],
   "source": [
    "s=int(586392)\n",
    "res = [int(x) for x in str(s)] \n",
    "print(res)"
   ]
  },
  {
   "cell_type": "markdown",
   "metadata": {},
   "source": [
    "15.WRITE A PROGRAM THAT FINDS THE LONGEST PALINDROMIC SUBSTRING OF A GIVEN STRING."
   ]
  },
  {
   "cell_type": "code",
   "execution_count": 4,
   "metadata": {},
   "outputs": [
    {
     "name": "stdout",
     "output_type": "stream",
     "text": [
      "enter a stringmaamhlomaam\n",
      "maam\n"
     ]
    }
   ],
   "source": [
    "st=input(\"enter a string\")\n",
    "s=[]\n",
    "l=1\n",
    "ct=0\n",
    "rs=\"\"\n",
    "for i in range(0,len(st),1):\n",
    "    for j in range(i+1,len(st)):\n",
    "        if st[i:j] == st[j:i:-1]:\n",
    "            if len(st[i:j])>l:\n",
    "                l=len(st[i:j])\n",
    "                rs=st[i:j+1]\n",
    "                ct=1\n",
    "                   \n",
    "if ct==1:\n",
    "                   print(rs)\n",
    "else:\n",
    "    print(-1)"
   ]
  },
  {
   "cell_type": "markdown",
   "metadata": {},
   "source": [
    "16.SUBSTRING CHECK ( BUG FUNNY ) Given two binary strings, A(of length 10) and B(of length 5), output 1 if B is a substring of A and 0 otherwise First two lines of input: 1010110010 10110 1110111011 10011 First two lines of output: 1 0"
   ]
  },
  {
   "cell_type": "code",
   "execution_count": 16,
   "metadata": {},
   "outputs": [
    {
     "name": "stdout",
     "output_type": "stream",
     "text": [
      "enter a string length of 101010110010\n",
      "enter a string length of 510110\n",
      "1\n"
     ]
    }
   ],
   "source": [
    "s1=input(\"enter a string length of 10\")\n",
    "s2=input(\"enter a string length of 5\")\n",
    "a=s1.find(s2)\n",
    "if a== -1:\n",
    "    print(0)\n",
    "else:\n",
    "    print(1)"
   ]
  },
  {
   "cell_type": "markdown",
   "metadata": {},
   "source": [
    "17.POUR1-Pouring Water Given two vessels, one of which can accommodate a litres of water and the other - b litres of water, determine the number of steps required to obtain exactly c litres of water in one of the vessels.\n",
    "\n",
    "At the beginning both vessels are empty. The following operations are counted as steps: emptying a vessel filling a vessel pouring water from one vessel to the other, without spilling, until one of the vessels is either full or empty"
   ]
  },
  {
   "cell_type": "code",
   "execution_count": 1,
   "metadata": {},
   "outputs": [
    {
     "name": "stdout",
     "output_type": "stream",
     "text": [
      "Minimum number of steps required is 6\n"
     ]
    }
   ],
   "source": [
    "# minimum number of steps required to measure \n",
    "# d litre water using jugs of m liters and n  \n",
    "# liters capacity. \n",
    "def gcd(a, b): \n",
    "    if b==0: \n",
    "        return a \n",
    "    return gcd(b, a%b) \n",
    "  \n",
    "  \n",
    "''' fromCap -- Capacity of jug from which \n",
    "              water is poured \n",
    "   toCap   -- Capacity of jug to which \n",
    "              water is poured \n",
    "   d       -- Amount to be measured '''\n",
    "def Pour(toJugCap, fromJugCap, d): \n",
    "  \n",
    "  \n",
    "    # Initialize current amount of water \n",
    "    # in source and destination jugs \n",
    "    fromJug = fromJugCap \n",
    "    toJug  = 0\n",
    "  \n",
    "    # Initialize steps required \n",
    "    step = 1\n",
    "    while ((fromJug  is not d) and (toJug is not d)): \n",
    "  \n",
    "          \n",
    "        # Find the maximum amount that can be \n",
    "        # poured \n",
    "        temp = min(fromJug, toJugCap-toJug) \n",
    "  \n",
    "        # Pour 'temp' liter from 'fromJug' to 'toJug' \n",
    "        toJug = toJug + temp \n",
    "        fromJug = fromJug - temp \n",
    "  \n",
    "        step =  step + 1\n",
    "        if ((fromJug == d) or (toJug == d)): \n",
    "            break\n",
    "  \n",
    "        # If first jug becomes empty, fill it \n",
    "        if fromJug == 0: \n",
    "            fromJug = fromJugCap \n",
    "            step =  step + 1\n",
    "  \n",
    "        # If second jug becomes full, empty it \n",
    "        if toJug == toJugCap: \n",
    "            toJug = 0\n",
    "            step =  step + 1\n",
    "              \n",
    "    return step \n",
    "  \n",
    "# Returns count of minimum steps needed to \n",
    "# measure d liter \n",
    "def minSteps(n, m, d): \n",
    "    if m> n: \n",
    "        temp = m \n",
    "        m = n \n",
    "        n = temp \n",
    "          \n",
    "    if (d%(gcd(n,m)) is not 0): \n",
    "        return -1\n",
    "      \n",
    "    # Return minimum two cases: \n",
    "    # a) Water of n liter jug is poured into \n",
    "    #    m liter jug \n",
    "    return(min(Pour(n,m,d), Pour(m,n,d))) \n",
    "  \n",
    "# Driver code \n",
    "if __name__ == '__main__': \n",
    "  \n",
    "    n = 3\n",
    "    m = 5\n",
    "    d = 4\n",
    "  \n",
    "    print('Minimum number of steps required is', minSteps(n, m, d))"
   ]
  },
  {
   "cell_type": "code",
   "execution_count": null,
   "metadata": {},
   "outputs": [],
   "source": []
  }
 ],
 "metadata": {
  "colab": {
   "name": "assignment2.ipynb",
   "provenance": []
  },
  "kernelspec": {
   "display_name": "Python 3",
   "language": "python",
   "name": "python3"
  },
  "language_info": {
   "codemirror_mode": {
    "name": "ipython",
    "version": 3
   },
   "file_extension": ".py",
   "mimetype": "text/x-python",
   "name": "python",
   "nbconvert_exporter": "python",
   "pygments_lexer": "ipython3",
   "version": "3.7.4"
  }
 },
 "nbformat": 4,
 "nbformat_minor": 1
}
