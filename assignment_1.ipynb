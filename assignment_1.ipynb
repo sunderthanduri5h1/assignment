{
  "nbformat": 4,
  "nbformat_minor": 0,
  "metadata": {
    "colab": {
      "name": "assignment 1.ipynb",
      "provenance": [],
      "collapsed_sections": []
    },
    "kernelspec": {
      "name": "python3",
      "display_name": "Python 3"
    }
  },
  "cells": [
    {
      "cell_type": "markdown",
      "metadata": {
        "id": "SZgYuxYKMy-o",
        "colab_type": "text"
      },
      "source": [
        "assignment <br>\n",
        "roll no:18k41a05h1<br>\n",
        "name: sunder raj<br>"
      ]
    },
    {
      "cell_type": "markdown",
      "metadata": {
        "id": "b1A7_zutbTpz",
        "colab_type": "text"
      },
      "source": [
        "1.\tDevelop a code for below scenario\n",
        "\n",
        " \n"
      ]
    },
    {
      "cell_type": "code",
      "metadata": {
        "id": "ZaSc5x5RvcN6",
        "colab_type": "code",
        "colab": {
          "base_uri": "https://localhost:8080/",
          "height": 50
        },
        "outputId": "cf344fc0-b258-41a1-ade3-e5ec42ffd3ec"
      },
      "source": [
        "year=int(input(\"enter the year\"))\n",
        "a=year%12\n",
        "d={0:\"monkey\",1:\"roaster\",2:\"dog\",3:\"pig\",4:\"rat\",5:\"ox\",6:\"tiger\",7:\"rabbit\",8:\"dragon\",9:\"snake\",10:\"horse\",11:\"sheep\"}\n",
        "print(d[a])"
      ],
      "execution_count": 21,
      "outputs": [
        {
          "output_type": "stream",
          "text": [
            "enter the year2020\n",
            "rat\n"
          ],
          "name": "stdout"
        }
      ]
    },
    {
      "cell_type": "markdown",
      "metadata": {
        "id": "ibJETUIIf8qL",
        "colab_type": "text"
      },
      "source": [
        "\n",
        "2.\tA Quick Fox Transport Co. wants to develop an application for calculating amount based on distance and weight of goods. The charges (Amount) to be <br>calculated as per rates given below. \n",
        " \n",
        "Input:  Distance to be travel: 520     \n",
        "Weight of the goods: 50 <br>\n",
        "Output: Amount to be charged: 3120 /-\n"
      ]
    },
    {
      "cell_type": "code",
      "metadata": {
        "id": "layVHWUkAR45",
        "colab_type": "code",
        "colab": {
          "base_uri": "https://localhost:8080/",
          "height": 67
        },
        "outputId": "f85b9100-542c-416c-92fb-c6cf12d10bd2"
      },
      "source": [
        "s=int(input(\"enter the distance\"))\n",
        "w=int(input(\"weight of goods\"))\n",
        "if s>=500:\n",
        "  if w>=100:\n",
        "    a=5*s\n",
        "  elif w>=10 and w<100:\n",
        "      a=6*s\n",
        "  else:\n",
        "    a=7*s\n",
        "else:\n",
        "  if w>=100:\n",
        "    a=8*s\n",
        "  else:\n",
        "    a=5*s\n",
        "print(\"amount to be charged {}\".format(a))\n",
        "\n",
        "\n"
      ],
      "execution_count": null,
      "outputs": [
        {
          "output_type": "stream",
          "text": [
            "enter the distance520\n",
            "weight of goods50\n",
            "amount to be charged 3120\n"
          ],
          "name": "stdout"
        }
      ]
    },
    {
      "cell_type": "markdown",
      "metadata": {
        "id": "-1JHR8dRDWD6",
        "colab_type": "text"
      },
      "source": [
        "3.\tThe Entertainment Paradise\n",
        "\n",
        " A theater in Delhi wants to develop a computerized Booking System. The theater offers different types of seats. The Ticket rates are- Stalls- Rs. 625/-, Circle- Rs.750/-, Upper Class- Rs.850/- and Box- Rs.1000/-. A discount is given 10% of total amount if tickets are purchased on Cash. In case of credit card holders 5% discount is given.<br> \n",
        "Input: \tType of Seat: Circle    \n",
        "Payment mode: cash<br>\n",
        "Output: Cost of ticket: 675\n"
      ]
    },
    {
      "cell_type": "code",
      "metadata": {
        "id": "FzGbOduevZOA",
        "colab_type": "code",
        "colab": {
          "base_uri": "https://localhost:8080/",
          "height": 67
        },
        "outputId": "d0bd3ce1-3d71-4c8f-a431-9b8d0deffddd"
      },
      "source": [
        "s=input(\"enter type of seat\")\n",
        "pm=input(\"enter payment mode cash or credit card\")\n",
        "a=int()\n",
        "if s == \"stalls\":\n",
        "    a=625\n",
        "elif s == \"circle\":\n",
        "    a=750\n",
        "elif s == \"upper class\":\n",
        "    a=850\n",
        "elif s == \"box\":\n",
        "    a=1000\n",
        "if pm == \"cash\":\n",
        "    d=a*(10/100)\n",
        "    a=a-d\n",
        "elif pm == \"credit card\":\n",
        "    d=a*5/100\n",
        "    a=a-d\n",
        "    \n",
        "print(\"amount to be paid is:\",a)\n"
      ],
      "execution_count": 1,
      "outputs": [
        {
          "output_type": "stream",
          "text": [
            "enter type of seatcircle\n",
            "enter payment mode cash or credit cardcash\n",
            "amount to be paid is: 675.0\n"
          ],
          "name": "stdout"
        }
      ]
    },
    {
      "cell_type": "markdown",
      "metadata": {
        "id": "X19VzBnyD2ot",
        "colab_type": "text"
      },
      "source": [
        "4.\tDevelop a program that calculates the energy needed to heat water from an initial temperature to a final temperature. Your program should prompt the user to enter the amount of water in kilograms and the initial and final temperatures of the water.<br> The formula to compute the energy is <b>\n",
        "Q = M * (finalTemperature – initialTemperature) * 4184.\n",
        "where M is the weight of water in kilograms, temperatures are in degrees Celsius,  and energy Q is measured in joules. (L6)\n"
      ]
    },
    {
      "cell_type": "code",
      "metadata": {
        "id": "rJLKrcGWTBf9",
        "colab_type": "code",
        "colab": {
          "base_uri": "https://localhost:8080/",
          "height": 101
        },
        "outputId": "48d14b01-507a-453d-de59-e0e34a94b59e"
      },
      "source": [
        "print(\"enter:\")\n",
        "initial=int(input(\"initial temperature\"))\n",
        "final=int(input(\"final temperature\"))\n",
        "wt=int(input(\"amount of water in kilograms\"))\n",
        "q=wt*(final-initial)*4184\n",
        "print(\"energy required is :\",q,\"J\")"
      ],
      "execution_count": 3,
      "outputs": [
        {
          "output_type": "stream",
          "text": [
            "enter:\n",
            "initial temperature35\n",
            "final temperature60\n",
            "amount of water in kilograms500\n",
            "energy required is : 52300000 J\n"
          ],
          "name": "stdout"
        }
      ]
    },
    {
      "cell_type": "markdown",
      "metadata": {
        "id": "XdALMs_JdxdS",
        "colab_type": "text"
      },
      "source": [
        "5.\tDevelop a program that prompts user to enter month and  print <br>\n",
        "a.\t“Winter ” -   December ,January and February<br>\n",
        "b.\t“Spring”  -   March ,April and May<br>\n",
        "c.\t“Summer”  --- June ,July, August<br>\n",
        "d.\t“Autumn ”  -- September ,October, November<br>\n"
      ]
    },
    {
      "cell_type": "code",
      "metadata": {
        "id": "992GIBcO1b9M",
        "colab_type": "code",
        "colab": {
          "base_uri": "https://localhost:8080/",
          "height": 67
        },
        "outputId": "3ef6bf0f-23f6-48ad-e7f8-bfe5fab03689"
      },
      "source": [
        "\n",
        "print(\"enter the month that you wanna know the season\") \n",
        "month=input(\"enter a month\")\n",
        "if month in [\"january\",\"february\",\"december\"]:\n",
        "    print(\" WINTER SEASON\")\n",
        "elif month in [\"march\",\"april\",\"may\"]:\n",
        "    print(\"SPRING SEASON\")\n",
        "elif month in [\"june,july,august\"]:\n",
        "    print(\"SUMMER SEASON\")\n",
        "else:\n",
        "    print(\"IT'S AUTUMN SEASAON\")\n",
        "\n",
        "#s={\"december\":\"winter\",\"january\":\"winter\",\"february\":\"winter\",\"march\":\"spring\",\"april\":\"spring\",\"may\":\"spring\",\n",
        "#   \"june\":\"summer\",\"july\":\"summer\",\"august\":\"summer\",\"september\":\"autumn\",\"october\":\"autumn\",\"november\":\"autumn\"}\n",
        "#f=input(\"enter the month\")\n",
        "\n",
        "#print(s[f])\n"
      ],
      "execution_count": 4,
      "outputs": [
        {
          "output_type": "stream",
          "text": [
            "which season is this???\n",
            "enter a monthapril\n",
            "IT'S SPRING SEASON\n"
          ],
          "name": "stdout"
        }
      ]
    },
    {
      "cell_type": "markdown",
      "metadata": {
        "id": "sIpokNtxEqwf",
        "colab_type": "text"
      },
      "source": [
        "6.\tBody Mass Index\n",
        "\n"
      ]
    },
    {
      "cell_type": "code",
      "metadata": {
        "id": "vxlSfs3tjZ2U",
        "colab_type": "code",
        "colab": {
          "base_uri": "https://localhost:8080/",
          "height": 67
        },
        "outputId": "445b06e6-c82c-482e-9af5-12e0b62c3240"
      },
      "source": [
        "weight=int(input(\"enter weight in pounds\"))\n",
        "height=float(input(\"enter height in inches\"))\n",
        "weight=weight*0.45359237\n",
        "height=height*0.0254\n",
        "bmi=weight/height**2\n",
        "print(bmi)"
      ],
      "execution_count": 5,
      "outputs": [
        {
          "output_type": "stream",
          "text": [
            "enter weight in pounds200\n",
            "enter height in inches5.7\n",
            "4327.913694300766\n"
          ],
          "name": "stdout"
        }
      ]
    },
    {
      "cell_type": "markdown",
      "metadata": {
        "id": "QPNJoubCGEnZ",
        "colab_type": "text"
      },
      "source": [
        "7.\tWrite a program that reads an integer between 100 and 1000 and adds all the digits in the integer \t(\tex: input 745 \t# output =16\t(7+4+5)\t)"
      ]
    },
    {
      "cell_type": "code",
      "metadata": {
        "id": "yXs9gaKEF9hN",
        "colab_type": "code",
        "colab": {
          "base_uri": "https://localhost:8080/",
          "height": 67
        },
        "outputId": "38255b63-3950-4b2a-f376-3f940d69e95f"
      },
      "source": [
        "import math \n",
        "s=int(input(\"enter a no. between 100 and 1000 \\n\"))\n",
        "n=0\n",
        "while(s!=0):\n",
        "    r=s%10\n",
        "    n=math.floor(n+r)\n",
        "    s=s/10\n",
        "print(n)"
      ],
      "execution_count": 6,
      "outputs": [
        {
          "output_type": "stream",
          "text": [
            "enter a no. between 100 and 1000 \n",
            "356\n",
            "14\n"
          ],
          "name": "stdout"
        }
      ]
    },
    {
      "cell_type": "markdown",
      "metadata": {
        "id": "0zCUWcKcG0OV",
        "colab_type": "text"
      },
      "source": [
        "8.\tPrint all palindrome numbers between 1 to 1000."
      ]
    },
    {
      "cell_type": "code",
      "metadata": {
        "id": "i_VsGtDfGun3",
        "colab_type": "code",
        "colab": {
          "base_uri": "https://localhost:8080/",
          "height": 1000
        },
        "outputId": "cc7c5f7a-4207-41c4-caa6-a7558a6346c6"
      },
      "source": [
        "c=0 \n",
        "s=0\n",
        "p=0\n",
        "for i in range(1,1000,1):\n",
        "    n=i\n",
        "    t=n\n",
        "    s=0\n",
        "    while(n!=0):\n",
        "        r=n%10\n",
        "      \n",
        "        s=r+(s*10)\n",
        "        n=n//10\n",
        "\n",
        "    if(t==s):\n",
        "      print(\"t=\",t,\"s=\",s)\n",
        "      print(s,\"is a palindrome\")\n",
        "     \n",
        "        \n",
        "    \n",
        "    \n",
        "    \n"
      ],
      "execution_count": 11,
      "outputs": [
        {
          "output_type": "stream",
          "text": [
            "t= 1 s= 1\n",
            "1 is a palindrome\n",
            "t= 2 s= 2\n",
            "2 is a palindrome\n",
            "t= 3 s= 3\n",
            "3 is a palindrome\n",
            "t= 4 s= 4\n",
            "4 is a palindrome\n",
            "t= 5 s= 5\n",
            "5 is a palindrome\n",
            "t= 6 s= 6\n",
            "6 is a palindrome\n",
            "t= 7 s= 7\n",
            "7 is a palindrome\n",
            "t= 8 s= 8\n",
            "8 is a palindrome\n",
            "t= 9 s= 9\n",
            "9 is a palindrome\n",
            "t= 11 s= 11\n",
            "11 is a palindrome\n",
            "t= 22 s= 22\n",
            "22 is a palindrome\n",
            "t= 33 s= 33\n",
            "33 is a palindrome\n",
            "t= 44 s= 44\n",
            "44 is a palindrome\n",
            "t= 55 s= 55\n",
            "55 is a palindrome\n",
            "t= 66 s= 66\n",
            "66 is a palindrome\n",
            "t= 77 s= 77\n",
            "77 is a palindrome\n",
            "t= 88 s= 88\n",
            "88 is a palindrome\n",
            "t= 99 s= 99\n",
            "99 is a palindrome\n",
            "t= 101 s= 101\n",
            "101 is a palindrome\n",
            "t= 111 s= 111\n",
            "111 is a palindrome\n",
            "t= 121 s= 121\n",
            "121 is a palindrome\n",
            "t= 131 s= 131\n",
            "131 is a palindrome\n",
            "t= 141 s= 141\n",
            "141 is a palindrome\n",
            "t= 151 s= 151\n",
            "151 is a palindrome\n",
            "t= 161 s= 161\n",
            "161 is a palindrome\n",
            "t= 171 s= 171\n",
            "171 is a palindrome\n",
            "t= 181 s= 181\n",
            "181 is a palindrome\n",
            "t= 191 s= 191\n",
            "191 is a palindrome\n",
            "t= 202 s= 202\n",
            "202 is a palindrome\n",
            "t= 212 s= 212\n",
            "212 is a palindrome\n",
            "t= 222 s= 222\n",
            "222 is a palindrome\n",
            "t= 232 s= 232\n",
            "232 is a palindrome\n",
            "t= 242 s= 242\n",
            "242 is a palindrome\n",
            "t= 252 s= 252\n",
            "252 is a palindrome\n",
            "t= 262 s= 262\n",
            "262 is a palindrome\n",
            "t= 272 s= 272\n",
            "272 is a palindrome\n",
            "t= 282 s= 282\n",
            "282 is a palindrome\n",
            "t= 292 s= 292\n",
            "292 is a palindrome\n",
            "t= 303 s= 303\n",
            "303 is a palindrome\n",
            "t= 313 s= 313\n",
            "313 is a palindrome\n",
            "t= 323 s= 323\n",
            "323 is a palindrome\n",
            "t= 333 s= 333\n",
            "333 is a palindrome\n",
            "t= 343 s= 343\n",
            "343 is a palindrome\n",
            "t= 353 s= 353\n",
            "353 is a palindrome\n",
            "t= 363 s= 363\n",
            "363 is a palindrome\n",
            "t= 373 s= 373\n",
            "373 is a palindrome\n",
            "t= 383 s= 383\n",
            "383 is a palindrome\n",
            "t= 393 s= 393\n",
            "393 is a palindrome\n",
            "t= 404 s= 404\n",
            "404 is a palindrome\n",
            "t= 414 s= 414\n",
            "414 is a palindrome\n",
            "t= 424 s= 424\n",
            "424 is a palindrome\n",
            "t= 434 s= 434\n",
            "434 is a palindrome\n",
            "t= 444 s= 444\n",
            "444 is a palindrome\n",
            "t= 454 s= 454\n",
            "454 is a palindrome\n",
            "t= 464 s= 464\n",
            "464 is a palindrome\n",
            "t= 474 s= 474\n",
            "474 is a palindrome\n",
            "t= 484 s= 484\n",
            "484 is a palindrome\n",
            "t= 494 s= 494\n",
            "494 is a palindrome\n",
            "t= 505 s= 505\n",
            "505 is a palindrome\n",
            "t= 515 s= 515\n",
            "515 is a palindrome\n",
            "t= 525 s= 525\n",
            "525 is a palindrome\n",
            "t= 535 s= 535\n",
            "535 is a palindrome\n",
            "t= 545 s= 545\n",
            "545 is a palindrome\n",
            "t= 555 s= 555\n",
            "555 is a palindrome\n",
            "t= 565 s= 565\n",
            "565 is a palindrome\n",
            "t= 575 s= 575\n",
            "575 is a palindrome\n",
            "t= 585 s= 585\n",
            "585 is a palindrome\n",
            "t= 595 s= 595\n",
            "595 is a palindrome\n",
            "t= 606 s= 606\n",
            "606 is a palindrome\n",
            "t= 616 s= 616\n",
            "616 is a palindrome\n",
            "t= 626 s= 626\n",
            "626 is a palindrome\n",
            "t= 636 s= 636\n",
            "636 is a palindrome\n",
            "t= 646 s= 646\n",
            "646 is a palindrome\n",
            "t= 656 s= 656\n",
            "656 is a palindrome\n",
            "t= 666 s= 666\n",
            "666 is a palindrome\n",
            "t= 676 s= 676\n",
            "676 is a palindrome\n",
            "t= 686 s= 686\n",
            "686 is a palindrome\n",
            "t= 696 s= 696\n",
            "696 is a palindrome\n",
            "t= 707 s= 707\n",
            "707 is a palindrome\n",
            "t= 717 s= 717\n",
            "717 is a palindrome\n",
            "t= 727 s= 727\n",
            "727 is a palindrome\n",
            "t= 737 s= 737\n",
            "737 is a palindrome\n",
            "t= 747 s= 747\n",
            "747 is a palindrome\n",
            "t= 757 s= 757\n",
            "757 is a palindrome\n",
            "t= 767 s= 767\n",
            "767 is a palindrome\n",
            "t= 777 s= 777\n",
            "777 is a palindrome\n",
            "t= 787 s= 787\n",
            "787 is a palindrome\n",
            "t= 797 s= 797\n",
            "797 is a palindrome\n",
            "t= 808 s= 808\n",
            "808 is a palindrome\n",
            "t= 818 s= 818\n",
            "818 is a palindrome\n",
            "t= 828 s= 828\n",
            "828 is a palindrome\n",
            "t= 838 s= 838\n",
            "838 is a palindrome\n",
            "t= 848 s= 848\n",
            "848 is a palindrome\n",
            "t= 858 s= 858\n",
            "858 is a palindrome\n",
            "t= 868 s= 868\n",
            "868 is a palindrome\n",
            "t= 878 s= 878\n",
            "878 is a palindrome\n",
            "t= 888 s= 888\n",
            "888 is a palindrome\n",
            "t= 898 s= 898\n",
            "898 is a palindrome\n",
            "t= 909 s= 909\n",
            "909 is a palindrome\n",
            "t= 919 s= 919\n",
            "919 is a palindrome\n",
            "t= 929 s= 929\n",
            "929 is a palindrome\n",
            "t= 939 s= 939\n",
            "939 is a palindrome\n",
            "t= 949 s= 949\n",
            "949 is a palindrome\n",
            "t= 959 s= 959\n",
            "959 is a palindrome\n",
            "t= 969 s= 969\n",
            "969 is a palindrome\n",
            "t= 979 s= 979\n",
            "979 is a palindrome\n",
            "t= 989 s= 989\n",
            "989 is a palindrome\n",
            "t= 999 s= 999\n",
            "999 is a palindrome\n"
          ],
          "name": "stdout"
        }
      ]
    },
    {
      "cell_type": "markdown",
      "metadata": {
        "id": "GDAnD7XMISRb",
        "colab_type": "text"
      },
      "source": [
        "9.\tPrint all Armstrong numbers between 1 to 1000. "
      ]
    },
    {
      "cell_type": "code",
      "metadata": {
        "id": "a8CgloEwIOTx",
        "colab_type": "code",
        "colab": {
          "base_uri": "https://localhost:8080/",
          "height": 185
        },
        "outputId": "5cbeabef-13f9-42f5-ba6a-6b7ae8d9bf58"
      },
      "source": [
        "import math as mt\n",
        "c=0 \n",
        "s=0\n",
        "p=0\n",
        "for i in range(1,1000,1):\n",
        "    n=i\n",
        "    t=n\n",
        "    s=0\n",
        "    while(n!=0):\n",
        "        r=n%10\n",
        "        s=s+(r*r*r)\n",
        "        n=n//10 \n",
        "    if(t==s):\n",
        "      print(\"t=\",t,\"s=\",s)\n",
        "      print(s,\"is a armstrong number\")\n",
        "    \n",
        "    "
      ],
      "execution_count": 13,
      "outputs": [
        {
          "output_type": "stream",
          "text": [
            "t= 1 s= 1\n",
            "1 is a armstrong number\n",
            "t= 153 s= 153\n",
            "153 is a armstrong number\n",
            "t= 370 s= 370\n",
            "370 is a armstrong number\n",
            "t= 371 s= 371\n",
            "371 is a armstrong number\n",
            "t= 407 s= 407\n",
            "407 is a armstrong number\n"
          ],
          "name": "stdout"
        }
      ]
    },
    {
      "cell_type": "markdown",
      "metadata": {
        "id": "u6Isn17tJKZH",
        "colab_type": "text"
      },
      "source": [
        "10.\tWrite a Java program which iterates the integers from 1 to 100. For multiples of three print \"Fizz\" instead of the number and print \"Buzz\" for the multiples of five.<br> When number is divided by both three and five, print \"fizz buzz\"."
      ]
    },
    {
      "cell_type": "code",
      "metadata": {
        "id": "9swgrhQTJDnS",
        "colab_type": "code",
        "colab": {
          "base_uri": "https://localhost:8080/",
          "height": 1000
        },
        "outputId": "bffe8fe8-799f-4631-dc33-777c33416383"
      },
      "source": [
        "for i in range(1,101):\n",
        "  if(i%3==0 and i%5==0):\n",
        "    print(\"fizz buzz\")\n",
        "  elif(i%3==0):\n",
        "    print(\"fizz\")\n",
        "  elif(i%5==0):\n",
        "    print(\"buzz\")\n",
        "  else:\n",
        "    print(i)"
      ],
      "execution_count": 19,
      "outputs": [
        {
          "output_type": "stream",
          "text": [
            "1\n",
            "2\n",
            "fizz\n",
            "4\n",
            "buzz\n",
            "fizz\n",
            "7\n",
            "8\n",
            "fizz\n",
            "buzz\n",
            "11\n",
            "fizz\n",
            "13\n",
            "14\n",
            "fizz buzz\n",
            "16\n",
            "17\n",
            "fizz\n",
            "19\n",
            "buzz\n",
            "fizz\n",
            "22\n",
            "23\n",
            "fizz\n",
            "buzz\n",
            "26\n",
            "fizz\n",
            "28\n",
            "29\n",
            "fizz buzz\n",
            "31\n",
            "32\n",
            "fizz\n",
            "34\n",
            "buzz\n",
            "fizz\n",
            "37\n",
            "38\n",
            "fizz\n",
            "buzz\n",
            "41\n",
            "fizz\n",
            "43\n",
            "44\n",
            "fizz buzz\n",
            "46\n",
            "47\n",
            "fizz\n",
            "49\n",
            "buzz\n",
            "fizz\n",
            "52\n",
            "53\n",
            "fizz\n",
            "buzz\n",
            "56\n",
            "fizz\n",
            "58\n",
            "59\n",
            "fizz buzz\n",
            "61\n",
            "62\n",
            "fizz\n",
            "64\n",
            "buzz\n",
            "fizz\n",
            "67\n",
            "68\n",
            "fizz\n",
            "buzz\n",
            "71\n",
            "fizz\n",
            "73\n",
            "74\n",
            "fizz buzz\n",
            "76\n",
            "77\n",
            "fizz\n",
            "79\n",
            "buzz\n",
            "fizz\n",
            "82\n",
            "83\n",
            "fizz\n",
            "buzz\n",
            "86\n",
            "fizz\n",
            "88\n",
            "89\n",
            "fizz buzz\n",
            "91\n",
            "92\n",
            "fizz\n",
            "94\n",
            "buzz\n",
            "fizz\n",
            "97\n",
            "98\n",
            "fizz\n",
            "buzz\n"
          ],
          "name": "stdout"
        }
      ]
    },
    {
      "cell_type": "markdown",
      "metadata": {
        "id": "8yi89L32K9e2",
        "colab_type": "text"
      },
      "source": [
        "11.\tSpider Problem: A spider present at the bottom of the well of height H, needs to get out of it, using the slippery wall of the well. It decides to climb up the well; it goes up U meters and slips down D meters in one single step. So, in each step it covers (U-D) meters, and if the spider gets out of the well by covering U meters in the last step it doesn’t a slip back. For example, if the spider climbs up 5 meters and slips down by 3 meters in a single step, it covers (U - D) m in each step and 96 m in 48 steps, but in the 49th step it climbs up 5 m and reaches out of the well and it will not slip down and the step is counted as one step.     \n",
        "Input: Each test case will contain 3 integers ’H’ height of the well, next ’U’ meters climbs up in each step, and the last ’D’ meters slips down in each step.\n",
        "Output:  The number of steps 'N' required to get out of the well.<br>\n",
        "Example 1:<br>\n",
        " \tInput:       200 50 1<br>\t\t\t\t\t\tOuput : 5\n",
        "\t\t\t\t\t\t   \n",
        "\tExample 2:<br>\n",
        " \tInput:500 20 15\t\t\t<br>\t\t\t\tOutput :98\n",
        "\t\t\t\t\t  \n",
        "\n"
      ]
    },
    {
      "cell_type": "code",
      "metadata": {
        "id": "Bw5iyHDvKFcE",
        "colab_type": "code",
        "colab": {
          "base_uri": "https://localhost:8080/",
          "height": 84
        },
        "outputId": "c63553ae-6ec1-4d64-d667-0a522a9de6d6"
      },
      "source": [
        "h=int(input('Enter height of the well: '))\n",
        "u=int(input('distance-climbs up: '))\n",
        "d=int(input('distance-slips down: '))\n",
        "s=int((h-u)/(u-d))\n",
        "s=s+2\n",
        "print(s)"
      ],
      "execution_count": 20,
      "outputs": [
        {
          "output_type": "stream",
          "text": [
            "Enter height of the well: 200\n",
            "distance-climbs up: 50\n",
            "distance-slips down: 1\n",
            "5\n"
          ],
          "name": "stdout"
        }
      ]
    },
    {
      "cell_type": "code",
      "metadata": {
        "id": "joZ5m1aSL9m5",
        "colab_type": "code",
        "colab": {}
      },
      "source": [
        ""
      ],
      "execution_count": null,
      "outputs": []
    }
  ]
}